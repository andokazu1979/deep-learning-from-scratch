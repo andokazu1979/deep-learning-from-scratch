{
 "cells": [
  {
   "cell_type": "markdown",
   "metadata": {},
   "source": [
    "# 4章 ニューラルネットワークの学習"
   ]
  },
  {
   "cell_type": "markdown",
   "metadata": {},
   "source": [
    "## 4.2 損失関数"
   ]
  },
  {
   "cell_type": "markdown",
   "metadata": {},
   "source": [
    "### 4.2.1 2 乗和誤差"
   ]
  },
  {
   "cell_type": "code",
   "execution_count": 1,
   "metadata": {
    "collapsed": true
   },
   "outputs": [],
   "source": [
    "import numpy as np"
   ]
  },
  {
   "cell_type": "code",
   "execution_count": 2,
   "metadata": {
    "collapsed": true
   },
   "outputs": [],
   "source": [
    "def mean_squared_error(y, t):\n",
    "    return 0.5 * np.sum((y-t)**2)"
   ]
  },
  {
   "cell_type": "code",
   "execution_count": 3,
   "metadata": {},
   "outputs": [
    {
     "data": {
      "text/plain": [
       "0.097500000000000031"
      ]
     },
     "execution_count": 3,
     "metadata": {},
     "output_type": "execute_result"
    }
   ],
   "source": [
    "t = [0, 0, 1, 0, 0, 0, 0, 0, 0, 0]\n",
    "y = [0.1, 0.05, 0.6, 0.0, 0.05, 0.1, 0.0, 0.1, 0.0, 0.0]\n",
    "mean_squared_error(np.array(y), np.array(t))"
   ]
  },
  {
   "cell_type": "code",
   "execution_count": 4,
   "metadata": {},
   "outputs": [
    {
     "data": {
      "text/plain": [
       "0.59750000000000003"
      ]
     },
     "execution_count": 4,
     "metadata": {},
     "output_type": "execute_result"
    }
   ],
   "source": [
    "y = [0.1, 0.05, 0.1, 0.0, 0.05, 0.1, 0.0, 0.6, 0.0, 0.0]\n",
    "mean_squared_error(np.array(y), np.array(t))"
   ]
  },
  {
   "cell_type": "markdown",
   "metadata": {},
   "source": [
    "### 4.2.2 交差エントロピー誤差"
   ]
  },
  {
   "cell_type": "markdown",
   "metadata": {},
   "source": [
    "交差エントロピー誤差 (cross entropy error)\n",
    "\n",
    "$$\n",
    "\\begin{align}\n",
    "E = -\\sum_{k} t_{k}\\log{y_{k}}\n",
    "\\end{align}\n",
    "$$"
   ]
  },
  {
   "cell_type": "code",
   "execution_count": 5,
   "metadata": {
    "collapsed": true
   },
   "outputs": [],
   "source": [
    "def cross_entropy_error(y, t):\n",
    "    delta = 1e-7\n",
    "    return -np.sum(t * np.log(y + delta))"
   ]
  },
  {
   "cell_type": "code",
   "execution_count": 6,
   "metadata": {
    "scrolled": true
   },
   "outputs": [
    {
     "data": {
      "text/plain": [
       "0.51082545709933802"
      ]
     },
     "execution_count": 6,
     "metadata": {},
     "output_type": "execute_result"
    }
   ],
   "source": [
    "t = [0, 0, 1, 0, 0, 0, 0, 0, 0, 0]\n",
    "y = [0.1, 0.05, 0.6, 0.0, 0.05, 0.1, 0.0, 0.1, 0.0, 0.0]\n",
    "cross_entropy_error(np.array(y), np.array(t))"
   ]
  },
  {
   "cell_type": "code",
   "execution_count": 7,
   "metadata": {
    "scrolled": true
   },
   "outputs": [
    {
     "data": {
      "text/plain": [
       "2.3025840929945458"
      ]
     },
     "execution_count": 7,
     "metadata": {},
     "output_type": "execute_result"
    }
   ],
   "source": [
    "y = [0.1, 0.05, 0.1, 0.0, 0.05, 0.1, 0.0, 0.6, 0.0, 0.0]\n",
    "cross_entropy_error(np.array(y), np.array(t))"
   ]
  },
  {
   "cell_type": "markdown",
   "metadata": {},
   "source": [
    "### 4.2.3 ミニバッチ学習"
   ]
  },
  {
   "cell_type": "code",
   "execution_count": 8,
   "metadata": {
    "scrolled": true
   },
   "outputs": [
    {
     "name": "stdout",
     "output_type": "stream",
     "text": [
      "(60000, 784)\n",
      "(60000, 10)\n"
     ]
    }
   ],
   "source": [
    "import sys, os\n",
    "sys.path.append(os.pardir)\n",
    "from dataset.mnist import load_mnist\n",
    "\n",
    "(x_train, t_train), (x_test, t_test) = load_mnist(normalize=True, one_hot_label=True)\n",
    "\n",
    "print(x_train.shape)\n",
    "print(t_train.shape)"
   ]
  },
  {
   "cell_type": "code",
   "execution_count": 9,
   "metadata": {
    "collapsed": true
   },
   "outputs": [],
   "source": [
    "train_size = x_train.shape[0]\n",
    "batch_size = 10\n",
    "batch_mask = np.random.choice(train_size, batch_size)\n",
    "x_batch = x_train[batch_mask]\n",
    "t_batch = t_train[batch_mask]"
   ]
  },
  {
   "cell_type": "markdown",
   "metadata": {},
   "source": [
    "### 4.2.4 [バッチ対応版]交差エントロピー誤差の実装"
   ]
  },
  {
   "cell_type": "markdown",
   "metadata": {},
   "source": [
    "ミニバッチ対応 交差エントロピー誤差 (cross entropy error)\n",
    "\n",
    "$$\n",
    "\\begin{align}\n",
    "E = -\\frac{1}{N}\\sum_{n}\\sum_{k} t_{nk}\\log{y_{nk}}\n",
    "\\end{align}\n",
    "$$"
   ]
  },
  {
   "cell_type": "code",
   "execution_count": 10,
   "metadata": {
    "collapsed": true
   },
   "outputs": [],
   "source": [
    "def cross_entropy_error(y, t):\n",
    "    if y.ndim == 1:\n",
    "        t = t.reshape(1, t.size)\n",
    "        y = y.reshape(1, y.size)\n",
    "        \n",
    "    batch_size = y.shape[0]\n",
    "    return -np.sum(t * np.log(y)) / batch_size"
   ]
  },
  {
   "cell_type": "code",
   "execution_count": 11,
   "metadata": {
    "collapsed": true
   },
   "outputs": [],
   "source": [
    "def cross_entropy_error(y, t):\n",
    "    if y.ndim == 1:\n",
    "        t = t.reshape(1, t.size)\n",
    "        y = y.reshape(1, y.size)\n",
    "        \n",
    "    batch_size = y.shape[0]\n",
    "    return -np.sum(np.log(y[np.arange(batch_size), t])) / batch_size"
   ]
  },
  {
   "cell_type": "markdown",
   "metadata": {},
   "source": [
    "## 4.3 数値微分"
   ]
  },
  {
   "cell_type": "markdown",
   "metadata": {},
   "source": [
    "### 4.3.1 微分"
   ]
  },
  {
   "cell_type": "markdown",
   "metadata": {},
   "source": [
    "$$\n",
    "\\begin{align}\n",
    "\\frac{df(x)}{dx} = \\lim_{h\\to 0}\\frac{f(x+h)-f(x)}{h}\n",
    "\\end{align}\n",
    "$$"
   ]
  },
  {
   "cell_type": "code",
   "execution_count": 12,
   "metadata": {
    "collapsed": true
   },
   "outputs": [],
   "source": [
    "def numerical_diff(f, x):\n",
    "    h = 10e-50\n",
    "    return (f(x+h) - f(x)) / h"
   ]
  },
  {
   "cell_type": "code",
   "execution_count": 13,
   "metadata": {},
   "outputs": [
    {
     "data": {
      "text/plain": [
       "0.0"
      ]
     },
     "execution_count": 13,
     "metadata": {},
     "output_type": "execute_result"
    }
   ],
   "source": [
    "np.float32(1e-50)"
   ]
  },
  {
   "cell_type": "code",
   "execution_count": 14,
   "metadata": {
    "collapsed": true
   },
   "outputs": [],
   "source": [
    "def numerical_diff(f, x):\n",
    "    h = 1e-4\n",
    "    return (f(x+h) - f(x-h)) / (2*h)"
   ]
  },
  {
   "cell_type": "markdown",
   "metadata": {},
   "source": [
    "### 4.3.2 数値微分の例"
   ]
  },
  {
   "cell_type": "code",
   "execution_count": 15,
   "metadata": {
    "collapsed": true
   },
   "outputs": [],
   "source": [
    "def function_1(x):\n",
    "    return 0.01*x**2 + 0.1*x"
   ]
  },
  {
   "cell_type": "code",
   "execution_count": 16,
   "metadata": {},
   "outputs": [
    {
     "name": "stdout",
     "output_type": "stream",
     "text": [
      "Populating the interactive namespace from numpy and matplotlib\n"
     ]
    }
   ],
   "source": [
    "%pylab inline"
   ]
  },
  {
   "cell_type": "code",
   "execution_count": 17,
   "metadata": {
    "scrolled": true
   },
   "outputs": [
    {
     "data": {
      "text/plain": [
       "[<matplotlib.lines.Line2D at 0x11ed03780>]"
      ]
     },
     "execution_count": 17,
     "metadata": {},
     "output_type": "execute_result"
    },
    {
     "data": {
      "image/png": "[encoded data removed]",
      "text/plain": [
       "<matplotlib.figure.Figure at 0x11b8f87b8>"
      ]
     },
     "metadata": {},
     "output_type": "display_data"
    }
   ],
   "source": [
    "x = np.arange(0.0, 20.0, 0.1)\n",
    "y = function_1(x)\n",
    "plt.xlabel(\"x\")\n",
    "plt.ylabel(\"f(x)\")\n",
    "plt.plot(x,y)"
   ]
  },
  {
   "cell_type": "code",
   "execution_count": 18,
   "metadata": {},
   "outputs": [
    {
     "name": "stdout",
     "output_type": "stream",
     "text": [
      "0.1999999999990898\n",
      "0.2999999999986347\n"
     ]
    }
   ],
   "source": [
    "print(numerical_diff(function_1, 5))\n",
    "print(numerical_diff(function_1, 10))"
   ]
  },
  {
   "cell_type": "markdown",
   "metadata": {},
   "source": [
    "### 4.3.3 偏微分"
   ]
  },
  {
   "cell_type": "code",
   "execution_count": 19,
   "metadata": {
    "collapsed": true
   },
   "outputs": [],
   "source": [
    "def function_2(x):\n",
    "    return x[0]**2 + x[1]**2"
   ]
  },
  {
   "cell_type": "code",
   "execution_count": 20,
   "metadata": {},
   "outputs": [
    {
     "data": {
      "text/plain": [
       "6.00000000000378"
      ]
     },
     "execution_count": 20,
     "metadata": {},
     "output_type": "execute_result"
    }
   ],
   "source": [
    "def function_tmp1(x0):\n",
    "    return x0*x0 + 4.0**2.0\n",
    "numerical_diff(function_tmp1, 3.0)"
   ]
  },
  {
   "cell_type": "code",
   "execution_count": 21,
   "metadata": {},
   "outputs": [
    {
     "data": {
      "text/plain": [
       "7.999999999999119"
      ]
     },
     "execution_count": 21,
     "metadata": {},
     "output_type": "execute_result"
    }
   ],
   "source": [
    "def function_tmp2(x1):\n",
    "    return 3.0*2.0 + x1*x1\n",
    "numerical_diff(function_tmp2, 4.0)"
   ]
  },
  {
   "cell_type": "markdown",
   "metadata": {},
   "source": [
    "## 4.4 勾配"
   ]
  },
  {
   "cell_type": "markdown",
   "metadata": {},
   "source": [
    "$$\n",
    "\\left( \\frac{\\partial f}{\\partial x_{0}}, \\frac{\\partial f}{\\partial x_{1}} \\right)\n",
    "$$"
   ]
  },
  {
   "cell_type": "code",
   "execution_count": 48,
   "metadata": {},
   "outputs": [],
   "source": [
    "def numerical_gradient(f, x):\n",
    "    h = 1e-4\n",
    "    grad = np.zeros_like(x)\n",
    "    \n",
    "    for idx in range(x.size):\n",
    "        print(\"[numerical_gradient] index for element of x : {0}\".format(i))\n",
    "        tmp_val = x[idx]\n",
    "        x[idx] = tmp_val + h\n",
    "        fxh1 = f(x)\n",
    "        \n",
    "        x[idx] = tmp_val - h\n",
    "        fxh2 = f(x)\n",
    "        \n",
    "        grad[idx] = (fxh1 - fxh2) / (2*h)\n",
    "        x[idx] = tmp_val\n",
    "        \n",
    "    return grad"
   ]
  },
  {
   "cell_type": "code",
   "execution_count": 23,
   "metadata": {},
   "outputs": [
    {
     "name": "stdout",
     "output_type": "stream",
     "text": [
      "[ 6.  8.]\n",
      "[ 0.  4.]\n",
      "[ 6.  0.]\n"
     ]
    }
   ],
   "source": [
    "print(numerical_gradient(function_2, np.array([3.0, 4.0])))\n",
    "print(numerical_gradient(function_2, np.array([0.0, 2.0])))\n",
    "print(numerical_gradient(function_2, np.array([3.0, 0.0])))"
   ]
  },
  {
   "cell_type": "markdown",
   "metadata": {},
   "source": [
    "### 4.4.1 勾配法"
   ]
  },
  {
   "cell_type": "markdown",
   "metadata": {},
   "source": [
    "$$\n",
    "x_{0} = x_{0} - \\eta \\frac{\\partial f}{\\partial x_{0}}\\\\\n",
    "x_{1} = x_{1} - \\eta \\frac{\\partial f}{\\partial x_{1}}\n",
    "$$"
   ]
  },
  {
   "cell_type": "code",
   "execution_count": 24,
   "metadata": {
    "collapsed": true
   },
   "outputs": [],
   "source": [
    "def gradient_descent(f, init_x, lr=0.01, step_num=100):\n",
    "    x = init_x\n",
    "    \n",
    "    for i in range(step_num):\n",
    "        grad = numerical_gradient(f, x)\n",
    "        \n",
    "        x -= lr * grad\n",
    "        \n",
    "    return x"
   ]
  },
  {
   "cell_type": "code",
   "execution_count": 25,
   "metadata": {},
   "outputs": [
    {
     "data": {
      "text/plain": [
       "array([ -6.11110793e-10,   8.14814391e-10])"
      ]
     },
     "execution_count": 25,
     "metadata": {},
     "output_type": "execute_result"
    }
   ],
   "source": [
    "init_x = np.array([-3.0, 4.0])\n",
    "gradient_descent(function_2, init_x=init_x, lr=0.1, step_num=100)"
   ]
  },
  {
   "cell_type": "code",
   "execution_count": 26,
   "metadata": {},
   "outputs": [
    {
     "data": {
      "text/plain": [
       "array([ -2.58983747e+13,  -1.29524862e+12])"
      ]
     },
     "execution_count": 26,
     "metadata": {},
     "output_type": "execute_result"
    }
   ],
   "source": [
    "init_x = np.array([-3.0, 4.0])\n",
    "gradient_descent(function_2, init_x=init_x, lr=10.0, step_num=100)"
   ]
  },
  {
   "cell_type": "code",
   "execution_count": 27,
   "metadata": {},
   "outputs": [
    {
     "data": {
      "text/plain": [
       "array([-2.99999994,  3.99999992])"
      ]
     },
     "execution_count": 27,
     "metadata": {},
     "output_type": "execute_result"
    }
   ],
   "source": [
    "init_x = np.array([-3.0, 4.0])\n",
    "gradient_descent(function_2, init_x=init_x, lr=1e-10, step_num=100)"
   ]
  },
  {
   "cell_type": "markdown",
   "metadata": {},
   "source": [
    "### 4.4.2 ニューラルネットワークに対する勾配"
   ]
  },
  {
   "cell_type": "markdown",
   "metadata": {},
   "source": [
    "$$\n",
    "{\\bf W} =\n",
    "\\begin{pmatrix}\n",
    "w_{11} &w_{21} &w_{31}\\\\\n",
    "w_{12} &w_{22} &w_{32}\n",
    "\\end{pmatrix}\\\\\n",
    "\\frac{\\partial L}{\\partial \\bf W} =\n",
    "\\begin{pmatrix}\n",
    "\\frac{\\partial L}{\\partial w_{11}} &\\frac{\\partial L}{\\partial w_{21}} &\\frac{\\partial L}{\\partial w_{31}}\\\\\n",
    "\\frac{\\partial L}{\\partial w_{12}} &\\frac{\\partial L}{\\partial w_{22}} &\\frac{\\partial L}{\\partial w_{32}}\n",
    "\\end{pmatrix}\n",
    "$$"
   ]
  },
  {
   "cell_type": "code",
   "execution_count": 28,
   "metadata": {
    "collapsed": true
   },
   "outputs": [],
   "source": [
    "from common.functions import softmax, cross_entropy_error\n",
    "from common.gradient import numerical_gradient\n",
    "\n",
    "class simpleNet:\n",
    "    def __init__(self):\n",
    "        self.W = np.random.randn(2,3)\n",
    "        \n",
    "    def predict(self, x):\n",
    "        return np.dot(x, self.W)\n",
    "    \n",
    "    def loss(self, x, t):\n",
    "        z = self.predict(x)\n",
    "        y = softmax(z)\n",
    "        loss = cross_entropy_error(y, t)\n",
    "        \n",
    "        return loss"
   ]
  },
  {
   "cell_type": "code",
   "execution_count": 29,
   "metadata": {},
   "outputs": [
    {
     "name": "stdout",
     "output_type": "stream",
     "text": [
      "[[ 0.70870208 -0.10508828 -0.53138232]\n",
      " [-0.57332673 -1.17408367 -0.3325442 ]]\n"
     ]
    }
   ],
   "source": [
    "net = simpleNet()\n",
    "print(net.W)"
   ]
  },
  {
   "cell_type": "code",
   "execution_count": 30,
   "metadata": {},
   "outputs": [
    {
     "name": "stdout",
     "output_type": "stream",
     "text": [
      "[-0.09077281 -1.11972827 -0.61811917]\n"
     ]
    }
   ],
   "source": [
    "x = np.array([0.6, 0.9])\n",
    "p = net.predict(x)\n",
    "print(p)"
   ]
  },
  {
   "cell_type": "code",
   "execution_count": 31,
   "metadata": {},
   "outputs": [
    {
     "data": {
      "text/plain": [
       "0"
      ]
     },
     "execution_count": 31,
     "metadata": {},
     "output_type": "execute_result"
    }
   ],
   "source": [
    "np.argmax(p)"
   ]
  },
  {
   "cell_type": "code",
   "execution_count": 32,
   "metadata": {
    "scrolled": true
   },
   "outputs": [
    {
     "data": {
      "text/plain": [
       "1.1939180469172155"
      ]
     },
     "execution_count": 32,
     "metadata": {},
     "output_type": "execute_result"
    }
   ],
   "source": [
    "t = np.array([0, 0, 1])\n",
    "net.loss(x, t)"
   ]
  },
  {
   "cell_type": "code",
   "execution_count": 33,
   "metadata": {},
   "outputs": [
    {
     "name": "stdout",
     "output_type": "stream",
     "text": [
      "[[ 0.30807953  0.11010148 -0.41818101]\n",
      " [ 0.4621193   0.16515222 -0.62727152]]\n"
     ]
    }
   ],
   "source": [
    "def f(W):\n",
    "    return net.loss(x, t)\n",
    "\n",
    "dW = numerical_gradient(f, net.W)\n",
    "print(dW)"
   ]
  },
  {
   "cell_type": "markdown",
   "metadata": {},
   "source": [
    "## 4.5 学習アルゴリズムの実装"
   ]
  },
  {
   "cell_type": "markdown",
   "metadata": {
    "collapsed": true
   },
   "source": [
    "### 4.5.1 2 層ニューラルネットワークのクラス"
   ]
  },
  {
   "cell_type": "code",
   "execution_count": 34,
   "metadata": {
    "collapsed": true
   },
   "outputs": [],
   "source": [
    "import sys, os\n",
    "sys.path.append(os.pardir)\n",
    "from common.functions import *\n",
    "from common.gradient import numerical_gradient"
   ]
  },
  {
   "cell_type": "code",
   "execution_count": 49,
   "metadata": {
    "collapsed": true
   },
   "outputs": [],
   "source": [
    "class TwoLayerNet:\n",
    "    def __init__(self, input_size, hidden_size, output_size,\n",
    "                 weight_init_std=0.01):\n",
    "        self.params = {}\n",
    "        self.params['W1'] = weight_init_std * \\\n",
    "                            np.random.randn(input_size, hidden_size)\n",
    "        self.params['b1'] = np.zeros(hidden_size)\n",
    "        self.params['W2'] = weight_init_std * \\\n",
    "                            np.random.randn(hidden_size, output_size)\n",
    "        self.params['b2'] = np.zeros(output_size)\n",
    "        \n",
    "    def predict(self, x):\n",
    "        W1, W2 = self.params['W1'], self.params['W2']\n",
    "        b1, b2 = self.params['b1'], self.params['b2']\n",
    "        \n",
    "        a1 = np.dot(x, W1) + b1\n",
    "        z1 = sigmoidi(a1)\n",
    "        a2 = np.dot(z1, W2) + b2\n",
    "        y = softmax(a2)\n",
    "        \n",
    "        return y\n",
    "    \n",
    "    def loss(self, x, t):\n",
    "        y = self.predict(x)\n",
    "        \n",
    "        return cross_entropy_error(y, t)\n",
    "    \n",
    "    def accuracy(self, x, t):\n",
    "        y = self.predict(x)\n",
    "        y = np.argmax(y, axis=1)\n",
    "        t = np.argmax(t, axis=1)\n",
    "        \n",
    "        accuracy = np.sum(y == t) / float(x.shape[0])\n",
    "        return accuracy\n",
    "    \n",
    "    def numerical_gradient(self, x, t):\n",
    "        loss_W = lambda W: self.loss(x, t)\n",
    "        \n",
    "        grads = {}\n",
    "        print(\"[TwoLayerNet.numerical_gradient] calculating for W1\")\n",
    "        grads['W1'] = numerical_gradient(loss_W, self.params['W1'])\n",
    "        print(\"[TwoLayerNet.numerical_gradient] calculating for b1\")\n",
    "        grads['b1'] = numerical_gradient(loss_W, self.params['b1'])\n",
    "        print(\"[TwoLayerNet.numerical_gradient] calculating for W2\")\n",
    "        grads['W2'] = numerical_gradient(loss_W, self.params['W2'])\n",
    "        print(\"[TwoLayerNet.numerical_gradient] calculating for b2\")\n",
    "        grads['b2'] = numerical_gradient(loss_W, self.params['b2'])"
   ]
  },
  {
   "cell_type": "code",
   "execution_count": 36,
   "metadata": {},
   "outputs": [
    {
     "name": "stdout",
     "output_type": "stream",
     "text": [
      "(784, 100)\n",
      "(100,)\n",
      "(100, 10)\n",
      "(10,)\n"
     ]
    }
   ],
   "source": [
    "net = TwoLayerNet(input_size=784, hidden_size=100, output_size=10)\n",
    "print(net.params['W1'].shape)\n",
    "print(net.params['b1'].shape)\n",
    "print(net.params['W2'].shape)\n",
    "print(net.params['b2'].shape)"
   ]
  },
  {
   "cell_type": "markdown",
   "metadata": {},
   "source": [
    "### 4.5.2 ミニバッチ学習の実装"
   ]
  },
  {
   "cell_type": "code",
   "execution_count": 51,
   "metadata": {},
   "outputs": [
    {
     "name": "stdout",
     "output_type": "stream",
     "text": [
      "[Main] iteration of main loop : 0\n",
      "[Main] choosing for batch ...\n",
      "[Main] calculating numerical gradient ...\n",
      "[Main] updating parameters ...\n",
      "[Main] calculating loss function ...\n",
      "[Main] iteration of main loop : 1\n",
      "[Main] choosing for batch ...\n",
      "[Main] calculating numerical gradient ...\n",
      "[Main] updating parameters ...\n",
      "[Main] calculating loss function ...\n",
      "[Main] iteration of main loop : 2\n",
      "[Main] choosing for batch ...\n",
      "[Main] calculating numerical gradient ...\n",
      "[Main] updating parameters ...\n",
      "[Main] calculating loss function ...\n",
      "[Main] iteration of main loop : 3\n",
      "[Main] choosing for batch ...\n",
      "[Main] calculating numerical gradient ...\n",
      "[Main] updating parameters ...\n",
      "[Main] calculating loss function ...\n",
      "[Main] iteration of main loop : 4\n",
      "[Main] choosing for batch ...\n",
      "[Main] calculating numerical gradient ...\n",
      "[Main] updating parameters ...\n",
      "[Main] calculating loss function ...\n",
      "[Main] iteration of main loop : 5\n",
      "[Main] choosing for batch ...\n",
      "[Main] calculating numerical gradient ...\n",
      "[Main] updating parameters ...\n",
      "[Main] calculating loss function ...\n",
      "[Main] iteration of main loop : 6\n",
      "[Main] choosing for batch ...\n",
      "[Main] calculating numerical gradient ...\n",
      "[Main] updating parameters ...\n",
      "[Main] calculating loss function ...\n",
      "[Main] iteration of main loop : 7\n",
      "[Main] choosing for batch ...\n",
      "[Main] calculating numerical gradient ...\n",
      "[Main] updating parameters ...\n",
      "[Main] calculating loss function ...\n",
      "[Main] iteration of main loop : 8\n",
      "[Main] choosing for batch ...\n",
      "[Main] calculating numerical gradient ...\n",
      "[Main] updating parameters ...\n",
      "[Main] calculating loss function ...\n",
      "[Main] iteration of main loop : 9\n",
      "[Main] choosing for batch ...\n",
      "[Main] calculating numerical gradient ...\n",
      "[Main] updating parameters ...\n",
      "[Main] calculating loss function ...\n"
     ]
    }
   ],
   "source": [
    "from dataset.mnist import load_mnist\n",
    "from two_layer_net import TwoLayerNet\n",
    "\n",
    "(x_train, t_train), (x_test, t_test) = \\\n",
    "    load_mnist(normalize=True, one_hot_label=True)\n",
    "    \n",
    "train_loss_list = []\n",
    "\n",
    "#iters_num = 10000\n",
    "iters_num = 10\n",
    "train_size = x_train.shape[0]\n",
    "batch_size = 100\n",
    "learning_rate = 0.1\n",
    "\n",
    "network = TwoLayerNet(input_size=784, hidden_size=50, output_size=10)\n",
    "\n",
    "for i in range(iters_num):\n",
    "    print(\"[Main] iteration of main loop : {0}\".format(i))\n",
    "    \n",
    "    print(\"[Main] choosing for batch ...\")\n",
    "    batch_mask = np.random.choice(train_size, batch_size)\n",
    "    x_batch = x_train[batch_mask]\n",
    "    t_batch = t_train[batch_mask]\n",
    "    \n",
    "    print(\"[Main] calculating numerical gradient ...\")\n",
    "    grad = network.numerical_gradient(x_batch, t_batch)\n",
    "          \n",
    "    print(\"[Main] updating parameters ...\")\n",
    "    for key in ('W1', 'b1', 'W2', 'b2'):\n",
    "        network.params[key] -= learning_rate * grad[key]\n",
    "        \n",
    "    print(\"[Main] calculating loss function ...\")\n",
    "    loss = network.loss(x_batch, t_batch)\n",
    "    train_loss_list.append(loss)"
   ]
  },
  {
   "cell_type": "code",
   "execution_count": 53,
   "metadata": {
    "scrolled": true
   },
   "outputs": [
    {
     "data": {
      "text/plain": [
       "<matplotlib.text.Text at 0x110894d68>"
      ]
     },
     "execution_count": 53,
     "metadata": {},
     "output_type": "execute_result"
    },
    {
     "data": {
      "image/png": "[encoded data removed]",
      "text/plain": [
       "<matplotlib.figure.Figure at 0x110887588>"
      ]
     },
     "metadata": {},
     "output_type": "display_data"
    }
   ],
   "source": [
    "plt.plot(train_loss_list)\n",
    "plt.xlabel(\"iteration\")\n",
    "plt.ylabel(\"loss\")"
   ]
  },
  {
   "cell_type": "markdown",
   "metadata": {},
   "source": [
    "## 4.5.3 テストデータで評価"
   ]
  },
  {
   "cell_type": "code",
   "execution_count": 61,
   "metadata": {},
   "outputs": [
    {
     "name": "stdout",
     "output_type": "stream",
     "text": [
      "[Main] iteration of main loop : 0\n",
      "[Main] choosing for batch ...\n",
      "[Main] calculating numerical gradient ...\n",
      "[Main] updating parameters ...\n",
      "[Main] calculating loss function ...\n",
      "[Main] calculating accuracy ...\n",
      "train acc, test acc | 0.0718833333333, 0.0709\n",
      "[Main] iteration of main loop : 1\n",
      "[Main] choosing for batch ...\n",
      "[Main] calculating numerical gradient ...\n",
      "[Main] updating parameters ...\n",
      "[Main] calculating loss function ...\n",
      "[Main] iteration of main loop : 2\n",
      "[Main] choosing for batch ...\n",
      "[Main] calculating numerical gradient ...\n",
      "[Main] updating parameters ...\n",
      "[Main] calculating loss function ...\n",
      "[Main] iteration of main loop : 3\n",
      "[Main] choosing for batch ...\n",
      "[Main] calculating numerical gradient ...\n",
      "[Main] updating parameters ...\n",
      "[Main] calculating loss function ...\n",
      "[Main] iteration of main loop : 4\n",
      "[Main] choosing for batch ...\n",
      "[Main] calculating numerical gradient ...\n",
      "[Main] updating parameters ...\n",
      "[Main] calculating loss function ...\n",
      "[Main] iteration of main loop : 5\n",
      "[Main] choosing for batch ...\n",
      "[Main] calculating numerical gradient ...\n",
      "[Main] updating parameters ...\n",
      "[Main] calculating loss function ...\n",
      "[Main] iteration of main loop : 6\n",
      "[Main] choosing for batch ...\n",
      "[Main] calculating numerical gradient ...\n",
      "[Main] updating parameters ...\n",
      "[Main] calculating loss function ...\n",
      "[Main] iteration of main loop : 7\n",
      "[Main] choosing for batch ...\n",
      "[Main] calculating numerical gradient ...\n",
      "[Main] updating parameters ...\n",
      "[Main] calculating loss function ...\n",
      "[Main] iteration of main loop : 8\n",
      "[Main] choosing for batch ...\n",
      "[Main] calculating numerical gradient ...\n",
      "[Main] updating parameters ...\n",
      "[Main] calculating loss function ...\n",
      "[Main] iteration of main loop : 9\n",
      "[Main] choosing for batch ...\n",
      "[Main] calculating numerical gradient ...\n",
      "[Main] updating parameters ...\n",
      "[Main] calculating loss function ...\n",
      "[Main] iteration of main loop : 10\n",
      "[Main] choosing for batch ...\n",
      "[Main] calculating numerical gradient ...\n",
      "[Main] updating parameters ...\n",
      "[Main] calculating loss function ...\n",
      "[Main] calculating accuracy ...\n",
      "train acc, test acc | 0.0986333333333, 0.0958\n",
      "[Main] iteration of main loop : 11\n",
      "[Main] choosing for batch ...\n",
      "[Main] calculating numerical gradient ...\n",
      "[Main] updating parameters ...\n",
      "[Main] calculating loss function ...\n",
      "[Main] iteration of main loop : 12\n",
      "[Main] choosing for batch ...\n",
      "[Main] calculating numerical gradient ...\n",
      "[Main] updating parameters ...\n",
      "[Main] calculating loss function ...\n",
      "[Main] iteration of main loop : 13\n",
      "[Main] choosing for batch ...\n",
      "[Main] calculating numerical gradient ...\n",
      "[Main] updating parameters ...\n",
      "[Main] calculating loss function ...\n",
      "[Main] iteration of main loop : 14\n",
      "[Main] choosing for batch ...\n",
      "[Main] calculating numerical gradient ...\n",
      "[Main] updating parameters ...\n",
      "[Main] calculating loss function ...\n",
      "[Main] iteration of main loop : 15\n",
      "[Main] choosing for batch ...\n",
      "[Main] calculating numerical gradient ...\n",
      "[Main] updating parameters ...\n",
      "[Main] calculating loss function ...\n",
      "[Main] iteration of main loop : 16\n",
      "[Main] choosing for batch ...\n",
      "[Main] calculating numerical gradient ...\n",
      "[Main] updating parameters ...\n",
      "[Main] calculating loss function ...\n",
      "[Main] iteration of main loop : 17\n",
      "[Main] choosing for batch ...\n",
      "[Main] calculating numerical gradient ...\n",
      "[Main] updating parameters ...\n",
      "[Main] calculating loss function ...\n",
      "[Main] iteration of main loop : 18\n",
      "[Main] choosing for batch ...\n",
      "[Main] calculating numerical gradient ...\n",
      "[Main] updating parameters ...\n",
      "[Main] calculating loss function ...\n",
      "[Main] iteration of main loop : 19\n",
      "[Main] choosing for batch ...\n",
      "[Main] calculating numerical gradient ...\n",
      "[Main] updating parameters ...\n",
      "[Main] calculating loss function ...\n",
      "[Main] iteration of main loop : 20\n",
      "[Main] choosing for batch ...\n",
      "[Main] calculating numerical gradient ...\n",
      "[Main] updating parameters ...\n",
      "[Main] calculating loss function ...\n",
      "[Main] calculating accuracy ...\n",
      "train acc, test acc | 0.112366666667, 0.1135\n",
      "[Main] iteration of main loop : 21\n",
      "[Main] choosing for batch ...\n",
      "[Main] calculating numerical gradient ...\n",
      "[Main] updating parameters ...\n",
      "[Main] calculating loss function ...\n",
      "[Main] iteration of main loop : 22\n",
      "[Main] choosing for batch ...\n",
      "[Main] calculating numerical gradient ...\n",
      "[Main] updating parameters ...\n",
      "[Main] calculating loss function ...\n",
      "[Main] iteration of main loop : 23\n",
      "[Main] choosing for batch ...\n",
      "[Main] calculating numerical gradient ...\n",
      "[Main] updating parameters ...\n",
      "[Main] calculating loss function ...\n",
      "[Main] iteration of main loop : 24\n",
      "[Main] choosing for batch ...\n",
      "[Main] calculating numerical gradient ...\n",
      "[Main] updating parameters ...\n",
      "[Main] calculating loss function ...\n",
      "[Main] iteration of main loop : 25\n",
      "[Main] choosing for batch ...\n",
      "[Main] calculating numerical gradient ...\n",
      "[Main] updating parameters ...\n",
      "[Main] calculating loss function ...\n",
      "[Main] iteration of main loop : 26\n",
      "[Main] choosing for batch ...\n",
      "[Main] calculating numerical gradient ...\n",
      "[Main] updating parameters ...\n",
      "[Main] calculating loss function ...\n",
      "[Main] iteration of main loop : 27\n",
      "[Main] choosing for batch ...\n",
      "[Main] calculating numerical gradient ...\n",
      "[Main] updating parameters ...\n",
      "[Main] calculating loss function ...\n",
      "[Main] iteration of main loop : 28\n",
      "[Main] choosing for batch ...\n",
      "[Main] calculating numerical gradient ...\n",
      "[Main] updating parameters ...\n",
      "[Main] calculating loss function ...\n",
      "[Main] iteration of main loop : 29\n",
      "[Main] choosing for batch ...\n",
      "[Main] calculating numerical gradient ...\n",
      "[Main] updating parameters ...\n",
      "[Main] calculating loss function ...\n",
      "[Main] iteration of main loop : 30\n",
      "[Main] choosing for batch ...\n",
      "[Main] calculating numerical gradient ...\n",
      "[Main] updating parameters ...\n",
      "[Main] calculating loss function ...\n",
      "[Main] calculating accuracy ...\n",
      "train acc, test acc | 0.112366666667, 0.1135\n",
      "[Main] iteration of main loop : 31\n",
      "[Main] choosing for batch ...\n",
      "[Main] calculating numerical gradient ...\n",
      "[Main] updating parameters ...\n",
      "[Main] calculating loss function ...\n",
      "[Main] iteration of main loop : 32\n",
      "[Main] choosing for batch ...\n",
      "[Main] calculating numerical gradient ...\n",
      "[Main] updating parameters ...\n",
      "[Main] calculating loss function ...\n",
      "[Main] iteration of main loop : 33\n",
      "[Main] choosing for batch ...\n",
      "[Main] calculating numerical gradient ...\n",
      "[Main] updating parameters ...\n",
      "[Main] calculating loss function ...\n",
      "[Main] iteration of main loop : 34\n",
      "[Main] choosing for batch ...\n",
      "[Main] calculating numerical gradient ...\n",
      "[Main] updating parameters ...\n",
      "[Main] calculating loss function ...\n",
      "[Main] iteration of main loop : 35\n",
      "[Main] choosing for batch ...\n",
      "[Main] calculating numerical gradient ...\n",
      "[Main] updating parameters ...\n",
      "[Main] calculating loss function ...\n",
      "[Main] iteration of main loop : 36\n",
      "[Main] choosing for batch ...\n",
      "[Main] calculating numerical gradient ...\n",
      "[Main] updating parameters ...\n",
      "[Main] calculating loss function ...\n",
      "[Main] iteration of main loop : 37\n",
      "[Main] choosing for batch ...\n",
      "[Main] calculating numerical gradient ...\n",
      "[Main] updating parameters ...\n",
      "[Main] calculating loss function ...\n",
      "[Main] iteration of main loop : 38\n",
      "[Main] choosing for batch ...\n",
      "[Main] calculating numerical gradient ...\n",
      "[Main] updating parameters ...\n",
      "[Main] calculating loss function ...\n",
      "[Main] iteration of main loop : 39\n",
      "[Main] choosing for batch ...\n",
      "[Main] calculating numerical gradient ...\n",
      "[Main] updating parameters ...\n",
      "[Main] calculating loss function ...\n",
      "[Main] iteration of main loop : 40\n",
      "[Main] choosing for batch ...\n",
      "[Main] calculating numerical gradient ...\n",
      "[Main] updating parameters ...\n",
      "[Main] calculating loss function ...\n",
      "[Main] calculating accuracy ...\n",
      "train acc, test acc | 0.104416666667, 0.1028\n",
      "[Main] iteration of main loop : 41\n",
      "[Main] choosing for batch ...\n",
      "[Main] calculating numerical gradient ...\n",
      "[Main] updating parameters ...\n",
      "[Main] calculating loss function ...\n",
      "[Main] iteration of main loop : 42\n",
      "[Main] choosing for batch ...\n",
      "[Main] calculating numerical gradient ...\n",
      "[Main] updating parameters ...\n",
      "[Main] calculating loss function ...\n",
      "[Main] iteration of main loop : 43\n",
      "[Main] choosing for batch ...\n",
      "[Main] calculating numerical gradient ...\n",
      "[Main] updating parameters ...\n",
      "[Main] calculating loss function ...\n",
      "[Main] iteration of main loop : 44\n",
      "[Main] choosing for batch ...\n",
      "[Main] calculating numerical gradient ...\n",
      "[Main] updating parameters ...\n",
      "[Main] calculating loss function ...\n",
      "[Main] iteration of main loop : 45\n",
      "[Main] choosing for batch ...\n",
      "[Main] calculating numerical gradient ...\n"
     ]
    },
    {
     "name": "stdout",
     "output_type": "stream",
     "text": [
      "[Main] updating parameters ...\n",
      "[Main] calculating loss function ...\n",
      "[Main] iteration of main loop : 46\n",
      "[Main] choosing for batch ...\n",
      "[Main] calculating numerical gradient ...\n",
      "[Main] updating parameters ...\n",
      "[Main] calculating loss function ...\n",
      "[Main] iteration of main loop : 47\n",
      "[Main] choosing for batch ...\n",
      "[Main] calculating numerical gradient ...\n",
      "[Main] updating parameters ...\n",
      "[Main] calculating loss function ...\n",
      "[Main] iteration of main loop : 48\n",
      "[Main] choosing for batch ...\n",
      "[Main] calculating numerical gradient ...\n",
      "[Main] updating parameters ...\n",
      "[Main] calculating loss function ...\n",
      "[Main] iteration of main loop : 49\n",
      "[Main] choosing for batch ...\n",
      "[Main] calculating numerical gradient ...\n",
      "[Main] updating parameters ...\n",
      "[Main] calculating loss function ...\n",
      "[Main] iteration of main loop : 50\n",
      "[Main] choosing for batch ...\n",
      "[Main] calculating numerical gradient ...\n",
      "[Main] updating parameters ...\n",
      "[Main] calculating loss function ...\n",
      "[Main] calculating accuracy ...\n",
      "train acc, test acc | 0.112366666667, 0.1135\n",
      "[Main] iteration of main loop : 51\n",
      "[Main] choosing for batch ...\n",
      "[Main] calculating numerical gradient ...\n",
      "[Main] updating parameters ...\n",
      "[Main] calculating loss function ...\n",
      "[Main] iteration of main loop : 52\n",
      "[Main] choosing for batch ...\n",
      "[Main] calculating numerical gradient ...\n",
      "[Main] updating parameters ...\n",
      "[Main] calculating loss function ...\n",
      "[Main] iteration of main loop : 53\n",
      "[Main] choosing for batch ...\n",
      "[Main] calculating numerical gradient ...\n",
      "[Main] updating parameters ...\n",
      "[Main] calculating loss function ...\n",
      "[Main] iteration of main loop : 54\n",
      "[Main] choosing for batch ...\n",
      "[Main] calculating numerical gradient ...\n",
      "[Main] updating parameters ...\n",
      "[Main] calculating loss function ...\n",
      "[Main] iteration of main loop : 55\n",
      "[Main] choosing for batch ...\n",
      "[Main] calculating numerical gradient ...\n",
      "[Main] updating parameters ...\n",
      "[Main] calculating loss function ...\n",
      "[Main] iteration of main loop : 56\n",
      "[Main] choosing for batch ...\n",
      "[Main] calculating numerical gradient ...\n",
      "[Main] updating parameters ...\n",
      "[Main] calculating loss function ...\n",
      "[Main] iteration of main loop : 57\n",
      "[Main] choosing for batch ...\n",
      "[Main] calculating numerical gradient ...\n",
      "[Main] updating parameters ...\n",
      "[Main] calculating loss function ...\n",
      "[Main] iteration of main loop : 58\n",
      "[Main] choosing for batch ...\n",
      "[Main] calculating numerical gradient ...\n",
      "[Main] updating parameters ...\n",
      "[Main] calculating loss function ...\n",
      "[Main] iteration of main loop : 59\n",
      "[Main] choosing for batch ...\n",
      "[Main] calculating numerical gradient ...\n",
      "[Main] updating parameters ...\n",
      "[Main] calculating loss function ...\n",
      "[Main] iteration of main loop : 60\n",
      "[Main] choosing for batch ...\n",
      "[Main] calculating numerical gradient ...\n",
      "[Main] updating parameters ...\n",
      "[Main] calculating loss function ...\n",
      "[Main] calculating accuracy ...\n",
      "train acc, test acc | 0.112366666667, 0.1135\n",
      "[Main] iteration of main loop : 61\n",
      "[Main] choosing for batch ...\n",
      "[Main] calculating numerical gradient ...\n",
      "[Main] updating parameters ...\n",
      "[Main] calculating loss function ...\n",
      "[Main] iteration of main loop : 62\n",
      "[Main] choosing for batch ...\n",
      "[Main] calculating numerical gradient ...\n",
      "[Main] updating parameters ...\n",
      "[Main] calculating loss function ...\n",
      "[Main] iteration of main loop : 63\n",
      "[Main] choosing for batch ...\n",
      "[Main] calculating numerical gradient ...\n",
      "[Main] updating parameters ...\n",
      "[Main] calculating loss function ...\n",
      "[Main] iteration of main loop : 64\n",
      "[Main] choosing for batch ...\n",
      "[Main] calculating numerical gradient ...\n",
      "[Main] updating parameters ...\n",
      "[Main] calculating loss function ...\n",
      "[Main] iteration of main loop : 65\n",
      "[Main] choosing for batch ...\n",
      "[Main] calculating numerical gradient ...\n",
      "[Main] updating parameters ...\n",
      "[Main] calculating loss function ...\n",
      "[Main] iteration of main loop : 66\n",
      "[Main] choosing for batch ...\n",
      "[Main] calculating numerical gradient ...\n",
      "[Main] updating parameters ...\n",
      "[Main] calculating loss function ...\n",
      "[Main] iteration of main loop : 67\n",
      "[Main] choosing for batch ...\n",
      "[Main] calculating numerical gradient ...\n",
      "[Main] updating parameters ...\n",
      "[Main] calculating loss function ...\n",
      "[Main] iteration of main loop : 68\n",
      "[Main] choosing for batch ...\n",
      "[Main] calculating numerical gradient ...\n",
      "[Main] updating parameters ...\n",
      "[Main] calculating loss function ...\n",
      "[Main] iteration of main loop : 69\n",
      "[Main] choosing for batch ...\n",
      "[Main] calculating numerical gradient ...\n",
      "[Main] updating parameters ...\n",
      "[Main] calculating loss function ...\n",
      "[Main] iteration of main loop : 70\n",
      "[Main] choosing for batch ...\n",
      "[Main] calculating numerical gradient ...\n",
      "[Main] updating parameters ...\n",
      "[Main] calculating loss function ...\n",
      "[Main] calculating accuracy ...\n",
      "train acc, test acc | 0.112366666667, 0.1135\n",
      "[Main] iteration of main loop : 71\n",
      "[Main] choosing for batch ...\n",
      "[Main] calculating numerical gradient ...\n",
      "[Main] updating parameters ...\n",
      "[Main] calculating loss function ...\n",
      "[Main] iteration of main loop : 72\n",
      "[Main] choosing for batch ...\n",
      "[Main] calculating numerical gradient ...\n",
      "[Main] updating parameters ...\n",
      "[Main] calculating loss function ...\n",
      "[Main] iteration of main loop : 73\n",
      "[Main] choosing for batch ...\n",
      "[Main] calculating numerical gradient ...\n",
      "[Main] updating parameters ...\n",
      "[Main] calculating loss function ...\n",
      "[Main] iteration of main loop : 74\n",
      "[Main] choosing for batch ...\n",
      "[Main] calculating numerical gradient ...\n",
      "[Main] updating parameters ...\n",
      "[Main] calculating loss function ...\n",
      "[Main] iteration of main loop : 75\n",
      "[Main] choosing for batch ...\n",
      "[Main] calculating numerical gradient ...\n",
      "[Main] updating parameters ...\n",
      "[Main] calculating loss function ...\n",
      "[Main] iteration of main loop : 76\n",
      "[Main] choosing for batch ...\n",
      "[Main] calculating numerical gradient ...\n",
      "[Main] updating parameters ...\n",
      "[Main] calculating loss function ...\n",
      "[Main] iteration of main loop : 77\n",
      "[Main] choosing for batch ...\n",
      "[Main] calculating numerical gradient ...\n",
      "[Main] updating parameters ...\n",
      "[Main] calculating loss function ...\n",
      "[Main] iteration of main loop : 78\n",
      "[Main] choosing for batch ...\n",
      "[Main] calculating numerical gradient ...\n",
      "[Main] updating parameters ...\n",
      "[Main] calculating loss function ...\n",
      "[Main] iteration of main loop : 79\n",
      "[Main] choosing for batch ...\n",
      "[Main] calculating numerical gradient ...\n",
      "[Main] updating parameters ...\n",
      "[Main] calculating loss function ...\n",
      "[Main] iteration of main loop : 80\n",
      "[Main] choosing for batch ...\n",
      "[Main] calculating numerical gradient ...\n",
      "[Main] updating parameters ...\n",
      "[Main] calculating loss function ...\n",
      "[Main] calculating accuracy ...\n",
      "train acc, test acc | 0.0975166666667, 0.0974\n",
      "[Main] iteration of main loop : 81\n",
      "[Main] choosing for batch ...\n",
      "[Main] calculating numerical gradient ...\n",
      "[Main] updating parameters ...\n",
      "[Main] calculating loss function ...\n",
      "[Main] iteration of main loop : 82\n",
      "[Main] choosing for batch ...\n",
      "[Main] calculating numerical gradient ...\n",
      "[Main] updating parameters ...\n",
      "[Main] calculating loss function ...\n",
      "[Main] iteration of main loop : 83\n",
      "[Main] choosing for batch ...\n",
      "[Main] calculating numerical gradient ...\n",
      "[Main] updating parameters ...\n",
      "[Main] calculating loss function ...\n",
      "[Main] iteration of main loop : 84\n",
      "[Main] choosing for batch ...\n",
      "[Main] calculating numerical gradient ...\n",
      "[Main] updating parameters ...\n",
      "[Main] calculating loss function ...\n",
      "[Main] iteration of main loop : 85\n",
      "[Main] choosing for batch ...\n",
      "[Main] calculating numerical gradient ...\n",
      "[Main] updating parameters ...\n",
      "[Main] calculating loss function ...\n",
      "[Main] iteration of main loop : 86\n",
      "[Main] choosing for batch ...\n",
      "[Main] calculating numerical gradient ...\n",
      "[Main] updating parameters ...\n",
      "[Main] calculating loss function ...\n",
      "[Main] iteration of main loop : 87\n",
      "[Main] choosing for batch ...\n",
      "[Main] calculating numerical gradient ...\n",
      "[Main] updating parameters ...\n",
      "[Main] calculating loss function ...\n",
      "[Main] iteration of main loop : 88\n",
      "[Main] choosing for batch ...\n",
      "[Main] calculating numerical gradient ...\n",
      "[Main] updating parameters ...\n",
      "[Main] calculating loss function ...\n",
      "[Main] iteration of main loop : 89\n",
      "[Main] choosing for batch ...\n",
      "[Main] calculating numerical gradient ...\n",
      "[Main] updating parameters ...\n",
      "[Main] calculating loss function ...\n",
      "[Main] iteration of main loop : 90\n",
      "[Main] choosing for batch ...\n",
      "[Main] calculating numerical gradient ...\n",
      "[Main] updating parameters ...\n",
      "[Main] calculating loss function ...\n",
      "[Main] calculating accuracy ...\n"
     ]
    },
    {
     "name": "stdout",
     "output_type": "stream",
     "text": [
      "train acc, test acc | 0.286166666667, 0.2896\n",
      "[Main] iteration of main loop : 91\n",
      "[Main] choosing for batch ...\n",
      "[Main] calculating numerical gradient ...\n",
      "[Main] updating parameters ...\n",
      "[Main] calculating loss function ...\n",
      "[Main] iteration of main loop : 92\n",
      "[Main] choosing for batch ...\n",
      "[Main] calculating numerical gradient ...\n",
      "[Main] updating parameters ...\n",
      "[Main] calculating loss function ...\n",
      "[Main] iteration of main loop : 93\n",
      "[Main] choosing for batch ...\n",
      "[Main] calculating numerical gradient ...\n",
      "[Main] updating parameters ...\n",
      "[Main] calculating loss function ...\n",
      "[Main] iteration of main loop : 94\n",
      "[Main] choosing for batch ...\n",
      "[Main] calculating numerical gradient ...\n",
      "[Main] updating parameters ...\n",
      "[Main] calculating loss function ...\n",
      "[Main] iteration of main loop : 95\n",
      "[Main] choosing for batch ...\n",
      "[Main] calculating numerical gradient ...\n",
      "[Main] updating parameters ...\n",
      "[Main] calculating loss function ...\n",
      "[Main] iteration of main loop : 96\n",
      "[Main] choosing for batch ...\n",
      "[Main] calculating numerical gradient ...\n",
      "[Main] updating parameters ...\n",
      "[Main] calculating loss function ...\n",
      "[Main] iteration of main loop : 97\n",
      "[Main] choosing for batch ...\n",
      "[Main] calculating numerical gradient ...\n",
      "[Main] updating parameters ...\n",
      "[Main] calculating loss function ...\n",
      "[Main] iteration of main loop : 98\n",
      "[Main] choosing for batch ...\n",
      "[Main] calculating numerical gradient ...\n",
      "[Main] updating parameters ...\n",
      "[Main] calculating loss function ...\n",
      "[Main] iteration of main loop : 99\n",
      "[Main] choosing for batch ...\n",
      "[Main] calculating numerical gradient ...\n",
      "[Main] updating parameters ...\n",
      "[Main] calculating loss function ...\n"
     ]
    }
   ],
   "source": [
    "from dataset.mnist import load_mnist\n",
    "from two_layer_net import TwoLayerNet\n",
    "\n",
    "(x_train, t_train), (x_test, t_test) = \\\n",
    "    load_mnist(normalize=True, one_hot_label=True)\n",
    "    \n",
    "train_loss_list = []\n",
    "\n",
    "#iters_num = 10000\n",
    "iters_num = 100\n",
    "train_size = x_train.shape[0]\n",
    "batch_size = 100\n",
    "learning_rate = 0.1\n",
    "\n",
    "train_acc_list = []\n",
    "test_acc_list = []\n",
    "iter_per_epoch = max(train_size / batch_size, 1)\n",
    "\n",
    "network = TwoLayerNet(input_size=784, hidden_size=50, output_size=10)\n",
    "\n",
    "for i in range(iters_num):\n",
    "    print(\"[Main] iteration of main loop : {0}\".format(i))\n",
    "    \n",
    "    print(\"[Main] choosing for batch ...\")\n",
    "    batch_mask = np.random.choice(train_size, batch_size)\n",
    "    x_batch = x_train[batch_mask]\n",
    "    t_batch = t_train[batch_mask]\n",
    "    \n",
    "    print(\"[Main] calculating numerical gradient ...\")\n",
    "    grad = network.numerical_gradient(x_batch, t_batch)\n",
    "    \n",
    "    print(\"[Main] updating parameters ...\")\n",
    "    for key in ('W1', 'b1', 'W2', 'b2'):\n",
    "        network.params[key] -= learning_rate * grad[key]\n",
    "        \n",
    "    print(\"[Main] calculating loss function ...\")\n",
    "    loss = network.loss(x_batch, t_batch)\n",
    "    train_loss_list.append(loss)\n",
    "    \n",
    "    #if i % iter_per_epoch == 0:\n",
    "    if i % 10 == 0:\n",
    "        print(\"[Main] calculating accuracy ...\")\n",
    "        train_acc = network.accuracy(x_train, t_train)\n",
    "        test_acc = network.accuracy(x_test, t_test)\n",
    "        train_acc_list.append(train_acc)\n",
    "        test_acc_list.append(test_acc)\n",
    "        print(\"train acc, test acc | \" + str(train_acc) + \", \" + str(test_acc))"
   ]
  },
  {
   "cell_type": "code",
   "execution_count": 62,
   "metadata": {
    "scrolled": true
   },
   "outputs": [
    {
     "data": {
      "text/plain": [
       "<matplotlib.text.Text at 0x110aeeb00>"
      ]
     },
     "execution_count": 62,
     "metadata": {},
     "output_type": "execute_result"
    },
    {
     "data": {
      "image/png": "[encoded data removed]",
      "text/plain": [
       "<matplotlib.figure.Figure at 0x110adb4e0>"
      ]
     },
     "metadata": {},
     "output_type": "display_data"
    }
   ],
   "source": [
    "plt.plot(train_loss_list)\n",
    "plt.xlabel(\"iteration\")\n",
    "plt.ylabel(\"loss\")"
   ]
  },
  {
   "cell_type": "code",
   "execution_count": 63,
   "metadata": {
    "scrolled": true
   },
   "outputs": [
    {
     "data": {
      "text/plain": [
       "<matplotlib.legend.Legend at 0x10f734c88>"
      ]
     },
     "execution_count": 63,
     "metadata": {},
     "output_type": "execute_result"
    },
    {
     "data": {
      "image/png": "[encoded data removed]",
      "text/plain": [
       "<matplotlib.figure.Figure at 0x103a0e240>"
      ]
     },
     "metadata": {},
     "output_type": "display_data"
    }
   ],
   "source": [
    "plt.plot(train_acc_list, label=\"train\")\n",
    "plt.plot(test_acc_list, label=\"test\")\n",
    "plt.xlabel(\"iteration\")\n",
    "plt.ylabel(\"accuracy\")\n",
    "plt.legend()"
   ]
  }
 ],
 "metadata": {
  "kernelspec": {
   "display_name": "Python 3",
   "language": "python",
   "name": "python3"
  },
  "language_info": {
   "codemirror_mode": {
    "name": "ipython",
    "version": 3
   },
   "file_extension": ".py",
   "mimetype": "text/x-python",
   "name": "python",
   "nbconvert_exporter": "python",
   "pygments_lexer": "ipython3",
   "version": "3.6.1"
  }
 },
 "nbformat": 4,
 "nbformat_minor": 2
}
